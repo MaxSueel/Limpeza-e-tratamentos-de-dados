{
 "cells": [
  {
   "cell_type": "code",
   "execution_count": 1,
   "id": "4b4fa1d4-a3f5-4f5e-aee7-1ab1c0a23800",
   "metadata": {},
   "outputs": [],
   "source": [
    "# Limpeza e tratamento de dados\n",
    "import pandas as pd # importando a biblioteca pandas para tratamento de df\n",
    "import seaborn as sbn # importando a biblioteca seaborn para graficos \n",
    "import statistics as sts # importando biblioteca statistcs para estatisticas \n"
   ]
  },
  {
   "cell_type": "code",
   "execution_count": 5,
   "id": "2e2eea03-77bb-4d93-ab8c-02bedbb930ee",
   "metadata": {},
   "outputs": [
    {
     "data": {
      "text/plain": [
       "<bound method NDFrame.head of        X0   X1  X2         X3  X4  X4.1        X6  X7  X8  X9         X10  X11\n",
       "0       1  619  RS   Feminino  42     2         0   1   1   1  10134888.0    1\n",
       "1       2  608  SC   Feminino  41     1   8380786   1   0   1  11254258.0    0\n",
       "2       3  502  RS   Feminino  42     8   1596608   3   1   0  11393157.0    1\n",
       "3       4  699  RS   Feminino  39     1         0   2   0   0   9382663.0    0\n",
       "4       5  850  SC   Feminino  43     2  12551082   1   1   1    790841.0    0\n",
       "..    ...  ...  ..        ...  ..   ...       ...  ..  ..  ..         ...  ...\n",
       "994   996  838  SC  Masculino  43     9  12310588   2   1   0  14576583.0    0\n",
       "995   997  610  SC  Masculino  29     9         0   3   0   1   8391224.0    0\n",
       "996   998  811  SC  Masculino  44     3         0   2   0   1   7843973.0    0\n",
       "997   999  587  SC  Masculino  62     7  12128627   1   0   1    677692.0    0\n",
       "998  1000  811  PR   Feminino  28     4  16773882   2   1   1    990342.0    0\n",
       "\n",
       "[999 rows x 12 columns]>"
      ]
     },
     "execution_count": 5,
     "metadata": {},
     "output_type": "execute_result"
    }
   ],
   "source": [
    "# importando dados\n",
    "dataset = pd.read_csv(\"Churn.csv\", sep=\";\" ) # comando \"read\" para ler o arquivo CSV e chamamnos a função \"sep\" para separar por \";\"\n",
    "dataset.head # visualiza cabeçalho do dataframe"
   ]
  },
  {
   "cell_type": "code",
   "execution_count": 8,
   "id": "b0482da8-a284-4096-873e-400d6e2bc135",
   "metadata": {},
   "outputs": [
    {
     "data": {
      "text/plain": [
       "(999, 12)"
      ]
     },
     "execution_count": 8,
     "metadata": {},
     "output_type": "execute_result"
    }
   ],
   "source": [
    "# tamanho do dataframe\n",
    "dataset.shape "
   ]
  },
  {
   "cell_type": "code",
   "execution_count": 15,
   "id": "ce50b400-7497-4d8c-bf3b-87b8365fedea",
   "metadata": {},
   "outputs": [],
   "source": [
    "# dar nome as colunas\n",
    "dataset.columns = [\"id\", \"Score\", \"Estado\", \"Genero\", \"Idade\", \"Patrimonio\", \"Saldo\",\n",
    "                   \"Produtos\", \"TemCartCredito\", \"Ativo\", \"Salario\", \"saiu\"]\n"
   ]
  },
  {
   "cell_type": "code",
   "execution_count": 17,
   "id": "778652db-b034-4d46-a70a-d2635787efb1",
   "metadata": {},
   "outputs": [
    {
     "data": {
      "text/html": [
       "<div>\n",
       "<style scoped>\n",
       "    .dataframe tbody tr th:only-of-type {\n",
       "        vertical-align: middle;\n",
       "    }\n",
       "\n",
       "    .dataframe tbody tr th {\n",
       "        vertical-align: top;\n",
       "    }\n",
       "\n",
       "    .dataframe thead th {\n",
       "        text-align: right;\n",
       "    }\n",
       "</style>\n",
       "<table border=\"1\" class=\"dataframe\">\n",
       "  <thead>\n",
       "    <tr style=\"text-align: right;\">\n",
       "      <th></th>\n",
       "      <th>id</th>\n",
       "      <th>Score</th>\n",
       "      <th>Estado</th>\n",
       "      <th>Genero</th>\n",
       "      <th>Idade</th>\n",
       "      <th>Patrimonio</th>\n",
       "      <th>Saldo</th>\n",
       "      <th>Produtos</th>\n",
       "      <th>TemCartCredito</th>\n",
       "      <th>Ativo</th>\n",
       "      <th>Salario</th>\n",
       "      <th>saiu</th>\n",
       "    </tr>\n",
       "  </thead>\n",
       "  <tbody>\n",
       "    <tr>\n",
       "      <th>0</th>\n",
       "      <td>1</td>\n",
       "      <td>619</td>\n",
       "      <td>RS</td>\n",
       "      <td>Feminino</td>\n",
       "      <td>42</td>\n",
       "      <td>2</td>\n",
       "      <td>0</td>\n",
       "      <td>1</td>\n",
       "      <td>1</td>\n",
       "      <td>1</td>\n",
       "      <td>10134888.0</td>\n",
       "      <td>1</td>\n",
       "    </tr>\n",
       "    <tr>\n",
       "      <th>1</th>\n",
       "      <td>2</td>\n",
       "      <td>608</td>\n",
       "      <td>SC</td>\n",
       "      <td>Feminino</td>\n",
       "      <td>41</td>\n",
       "      <td>1</td>\n",
       "      <td>8380786</td>\n",
       "      <td>1</td>\n",
       "      <td>0</td>\n",
       "      <td>1</td>\n",
       "      <td>11254258.0</td>\n",
       "      <td>0</td>\n",
       "    </tr>\n",
       "    <tr>\n",
       "      <th>2</th>\n",
       "      <td>3</td>\n",
       "      <td>502</td>\n",
       "      <td>RS</td>\n",
       "      <td>Feminino</td>\n",
       "      <td>42</td>\n",
       "      <td>8</td>\n",
       "      <td>1596608</td>\n",
       "      <td>3</td>\n",
       "      <td>1</td>\n",
       "      <td>0</td>\n",
       "      <td>11393157.0</td>\n",
       "      <td>1</td>\n",
       "    </tr>\n",
       "    <tr>\n",
       "      <th>3</th>\n",
       "      <td>4</td>\n",
       "      <td>699</td>\n",
       "      <td>RS</td>\n",
       "      <td>Feminino</td>\n",
       "      <td>39</td>\n",
       "      <td>1</td>\n",
       "      <td>0</td>\n",
       "      <td>2</td>\n",
       "      <td>0</td>\n",
       "      <td>0</td>\n",
       "      <td>9382663.0</td>\n",
       "      <td>0</td>\n",
       "    </tr>\n",
       "    <tr>\n",
       "      <th>4</th>\n",
       "      <td>5</td>\n",
       "      <td>850</td>\n",
       "      <td>SC</td>\n",
       "      <td>Feminino</td>\n",
       "      <td>43</td>\n",
       "      <td>2</td>\n",
       "      <td>12551082</td>\n",
       "      <td>1</td>\n",
       "      <td>1</td>\n",
       "      <td>1</td>\n",
       "      <td>790841.0</td>\n",
       "      <td>0</td>\n",
       "    </tr>\n",
       "  </tbody>\n",
       "</table>\n",
       "</div>"
      ],
      "text/plain": [
       "   id  Score Estado    Genero  Idade  Patrimonio     Saldo  Produtos  \\\n",
       "0   1    619     RS  Feminino     42           2         0         1   \n",
       "1   2    608     SC  Feminino     41           1   8380786         1   \n",
       "2   3    502     RS  Feminino     42           8   1596608         3   \n",
       "3   4    699     RS  Feminino     39           1         0         2   \n",
       "4   5    850     SC  Feminino     43           2  12551082         1   \n",
       "\n",
       "   TemCartCredito  Ativo     Salario  saiu  \n",
       "0               1      1  10134888.0     1  \n",
       "1               0      1  11254258.0     0  \n",
       "2               1      0  11393157.0     1  \n",
       "3               0      0   9382663.0     0  \n",
       "4               1      1    790841.0     0  "
      ]
     },
     "execution_count": 17,
     "metadata": {},
     "output_type": "execute_result"
    }
   ],
   "source": [
    "dataset.head() # vizualiza o cabeçalho\n"
   ]
  },
  {
   "cell_type": "code",
   "execution_count": 18,
   "id": "29f6452a-411c-4f7e-a50c-e1650ad44786",
   "metadata": {},
   "outputs": [
    {
     "data": {
      "text/plain": [
       "Estado\n",
       "PR    257\n",
       "RP      1\n",
       "RS    478\n",
       "SC    258\n",
       "SP      4\n",
       "TD      1\n",
       "dtype: int64"
      ]
     },
     "execution_count": 18,
     "metadata": {},
     "output_type": "execute_result"
    }
   ],
   "source": [
    "# explorar dados categoricos\n",
    "# estado\n",
    "agrupar = dataset.groupby(['Estado']).size() # agrupando os dados pela coluna \"estado\". Size conta os numeros de linhas(ocorrencias)em cada grupo\n",
    "agrupar"
   ]
  },
  {
   "cell_type": "code",
   "execution_count": 19,
   "id": "38fdff2d-24dd-4fd6-a40c-553f1ba36b62",
   "metadata": {},
   "outputs": [
    {
     "data": {
      "text/plain": [
       "<Axes: xlabel='Estado'>"
      ]
     },
     "execution_count": 19,
     "metadata": {},
     "output_type": "execute_result"
    },
    {
     "data": {
      "image/png": "[encoded data removed]",
      "text/plain": [
       "<Figure size 640x480 with 1 Axes>"
      ]
     },
     "metadata": {},
     "output_type": "display_data"
    }
   ],
   "source": [
    "agrupar.plot.bar(color = 'green') # .plot.bar() PEde para p pandas criar um grafico de barras a partir dessa series"
   ]
  },
  {
   "cell_type": "code",
   "execution_count": null,
   "id": "16b5f5d3-e0e8-4e96-aa24-d4def3ac243e",
   "metadata": {},
   "outputs": [],
   "source": []
  }
 ],
 "metadata": {
  "kernelspec": {
   "display_name": "Python [conda env:base] *",
   "language": "python",
   "name": "conda-base-py"
  },
  "language_info": {
   "codemirror_mode": {
    "name": "ipython",
    "version": 3
   },
   "file_extension": ".py",
   "mimetype": "text/x-python",
   "name": "python",
   "nbconvert_exporter": "python",
   "pygments_lexer": "ipython3",
   "version": "3.12.7"
  }
 },
 "nbformat": 4,
 "nbformat_minor": 5
}
